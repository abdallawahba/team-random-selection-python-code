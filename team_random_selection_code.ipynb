{
 "cells": [
  {
   "cell_type": "markdown",
   "metadata": {},
   "source": [
    "# Team Random Selection Code :)\n"
   ]
  },
  {
   "cell_type": "code",
   "execution_count": 1,
   "metadata": {},
   "outputs": [],
   "source": [
    "import random\n",
    "\n",
    "# Define the four test lists\n",
    "level1_list = [1, 2, 3, 4]\n",
    "level2_list = ['a', 'b', 'c','d']\n",
    "level3_list = [99, 88, 77,66]\n",
    "level4_list = [\"1$\",\"2&\",\"3%\",\"4©\"]"
   ]
  },
  {
   "cell_type": "markdown",
   "metadata": {},
   "source": [
    "Think about a code that help us to have random new mixed lists, each list should have one element from each level lists.\n",
    "\n",
    "Output may be like that following:\n",
    "```python\n",
    "team1 = [1, 'c', 88, '2&']\n",
    "team2 = [4, 'a', 99, '3%']\n",
    "team3 = [2, 'b', 77, '4©']\n",
    "team4 = [3, 'd', 66, '1$']\n",
    "```\n",
    "\n"
   ]
  },
  {
   "cell_type": "code",
   "execution_count": 10,
   "metadata": {},
   "outputs": [
    {
     "data": {
      "text/plain": [
       "[2, 'd', 66, '4©']"
      ]
     },
     "execution_count": 10,
     "metadata": {},
     "output_type": "execute_result"
    }
   ],
   "source": [
    "# your code here\n",
    "team = [random.choice(level1_list), random.choice(level2_list), random.choice(level3_list), random.choice(level4_list)]\n",
    "team"
   ]
  }
 ],
 "metadata": {
  "kernelspec": {
   "display_name": "pubmed",
   "language": "python",
   "name": "python3"
  },
  "language_info": {
   "codemirror_mode": {
    "name": "ipython",
    "version": 3
   },
   "file_extension": ".py",
   "mimetype": "text/x-python",
   "name": "python",
   "nbconvert_exporter": "python",
   "pygments_lexer": "ipython3",
   "version": "3.12.1"
  }
 },
 "nbformat": 4,
 "nbformat_minor": 2
}
